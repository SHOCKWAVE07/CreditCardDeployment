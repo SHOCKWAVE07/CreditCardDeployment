{
  "cells": [
    {
      "cell_type": "code",
      "execution_count": 1,
      "metadata": {
        "colab": {
          "base_uri": "https://localhost:8080/"
        },
        "id": "ZAj3fQeZqsCq",
        "outputId": "b9a9a3b3-ece6-46aa-def9-70ba806a5c20"
      },
      "outputs": [],
      "source": [
        "# from google.colab import drive\n",
        "# drive.mount('/content/drive')"
      ]
    },
    {
      "attachments": {},
      "cell_type": "markdown",
      "metadata": {},
      "source": [
        "Importing Libraries\n"
      ]
    },
    {
      "cell_type": "code",
      "execution_count": 2,
      "metadata": {
        "id": "eZUOd-7nqsyg"
      },
      "outputs": [],
      "source": [
        "import pandas as pd\n",
        "import matplotlib.pyplot as plt\n",
        "import numpy as np\n",
        "import seaborn as sns\n",
        "import pickle\n",
        "\n",
        "import tensorflow as tf\n",
        "from tensorflow import keras\n",
        "from tensorflow.keras.layers import Dense, Activation, Dropout\n",
        "from tensorflow.keras.optimizers import Adam\n",
        "from tensorflow.keras.metrics import Accuracy\n",
        "import matplotlib.pyplot as plt\n"
      ]
    },
    {
      "cell_type": "code",
      "execution_count": 3,
      "metadata": {
        "id": "rvDBczBQq_zS"
      },
      "outputs": [],
      "source": [
        "df = pd.read_csv(\"clean_dataset.csv\")"
      ]
    },
    {
      "cell_type": "code",
      "execution_count": 4,
      "metadata": {
        "colab": {
          "base_uri": "https://localhost:8080/",
          "height": 270
        },
        "id": "X8IvRCZKrEFk",
        "outputId": "1949497f-3f32-4320-b3b9-ff16a4e213bb"
      },
      "outputs": [
        {
          "data": {
            "text/html": [
              "<div>\n",
              "<style scoped>\n",
              "    .dataframe tbody tr th:only-of-type {\n",
              "        vertical-align: middle;\n",
              "    }\n",
              "\n",
              "    .dataframe tbody tr th {\n",
              "        vertical-align: top;\n",
              "    }\n",
              "\n",
              "    .dataframe thead th {\n",
              "        text-align: right;\n",
              "    }\n",
              "</style>\n",
              "<table border=\"1\" class=\"dataframe\">\n",
              "  <thead>\n",
              "    <tr style=\"text-align: right;\">\n",
              "      <th></th>\n",
              "      <th>Gender</th>\n",
              "      <th>Age</th>\n",
              "      <th>Debt</th>\n",
              "      <th>Married</th>\n",
              "      <th>BankCustomer</th>\n",
              "      <th>Industry</th>\n",
              "      <th>Ethnicity</th>\n",
              "      <th>YearsEmployed</th>\n",
              "      <th>PriorDefault</th>\n",
              "      <th>Employed</th>\n",
              "      <th>CreditScore</th>\n",
              "      <th>DriversLicense</th>\n",
              "      <th>Citizen</th>\n",
              "      <th>ZipCode</th>\n",
              "      <th>Income</th>\n",
              "      <th>Approved</th>\n",
              "    </tr>\n",
              "  </thead>\n",
              "  <tbody>\n",
              "    <tr>\n",
              "      <th>0</th>\n",
              "      <td>1</td>\n",
              "      <td>30.83</td>\n",
              "      <td>0.000</td>\n",
              "      <td>1</td>\n",
              "      <td>1</td>\n",
              "      <td>Industrials</td>\n",
              "      <td>White</td>\n",
              "      <td>1.25</td>\n",
              "      <td>1</td>\n",
              "      <td>1</td>\n",
              "      <td>1</td>\n",
              "      <td>0</td>\n",
              "      <td>ByBirth</td>\n",
              "      <td>202</td>\n",
              "      <td>0</td>\n",
              "      <td>1</td>\n",
              "    </tr>\n",
              "    <tr>\n",
              "      <th>1</th>\n",
              "      <td>0</td>\n",
              "      <td>58.67</td>\n",
              "      <td>4.460</td>\n",
              "      <td>1</td>\n",
              "      <td>1</td>\n",
              "      <td>Materials</td>\n",
              "      <td>Black</td>\n",
              "      <td>3.04</td>\n",
              "      <td>1</td>\n",
              "      <td>1</td>\n",
              "      <td>6</td>\n",
              "      <td>0</td>\n",
              "      <td>ByBirth</td>\n",
              "      <td>43</td>\n",
              "      <td>560</td>\n",
              "      <td>1</td>\n",
              "    </tr>\n",
              "    <tr>\n",
              "      <th>2</th>\n",
              "      <td>0</td>\n",
              "      <td>24.50</td>\n",
              "      <td>0.500</td>\n",
              "      <td>1</td>\n",
              "      <td>1</td>\n",
              "      <td>Materials</td>\n",
              "      <td>Black</td>\n",
              "      <td>1.50</td>\n",
              "      <td>1</td>\n",
              "      <td>0</td>\n",
              "      <td>0</td>\n",
              "      <td>0</td>\n",
              "      <td>ByBirth</td>\n",
              "      <td>280</td>\n",
              "      <td>824</td>\n",
              "      <td>1</td>\n",
              "    </tr>\n",
              "    <tr>\n",
              "      <th>3</th>\n",
              "      <td>1</td>\n",
              "      <td>27.83</td>\n",
              "      <td>1.540</td>\n",
              "      <td>1</td>\n",
              "      <td>1</td>\n",
              "      <td>Industrials</td>\n",
              "      <td>White</td>\n",
              "      <td>3.75</td>\n",
              "      <td>1</td>\n",
              "      <td>1</td>\n",
              "      <td>5</td>\n",
              "      <td>1</td>\n",
              "      <td>ByBirth</td>\n",
              "      <td>100</td>\n",
              "      <td>3</td>\n",
              "      <td>1</td>\n",
              "    </tr>\n",
              "    <tr>\n",
              "      <th>4</th>\n",
              "      <td>1</td>\n",
              "      <td>20.17</td>\n",
              "      <td>5.625</td>\n",
              "      <td>1</td>\n",
              "      <td>1</td>\n",
              "      <td>Industrials</td>\n",
              "      <td>White</td>\n",
              "      <td>1.71</td>\n",
              "      <td>1</td>\n",
              "      <td>0</td>\n",
              "      <td>0</td>\n",
              "      <td>0</td>\n",
              "      <td>ByOtherMeans</td>\n",
              "      <td>120</td>\n",
              "      <td>0</td>\n",
              "      <td>1</td>\n",
              "    </tr>\n",
              "  </tbody>\n",
              "</table>\n",
              "</div>"
            ],
            "text/plain": [
              "   Gender    Age   Debt  Married  BankCustomer     Industry Ethnicity   \n",
              "0       1  30.83  0.000        1             1  Industrials     White  \\\n",
              "1       0  58.67  4.460        1             1    Materials     Black   \n",
              "2       0  24.50  0.500        1             1    Materials     Black   \n",
              "3       1  27.83  1.540        1             1  Industrials     White   \n",
              "4       1  20.17  5.625        1             1  Industrials     White   \n",
              "\n",
              "   YearsEmployed  PriorDefault  Employed  CreditScore  DriversLicense   \n",
              "0           1.25             1         1            1               0  \\\n",
              "1           3.04             1         1            6               0   \n",
              "2           1.50             1         0            0               0   \n",
              "3           3.75             1         1            5               1   \n",
              "4           1.71             1         0            0               0   \n",
              "\n",
              "        Citizen  ZipCode  Income  Approved  \n",
              "0       ByBirth      202       0         1  \n",
              "1       ByBirth       43     560         1  \n",
              "2       ByBirth      280     824         1  \n",
              "3       ByBirth      100       3         1  \n",
              "4  ByOtherMeans      120       0         1  "
            ]
          },
          "execution_count": 4,
          "metadata": {},
          "output_type": "execute_result"
        }
      ],
      "source": [
        "df.head()"
      ]
    },
    {
      "cell_type": "code",
      "execution_count": 5,
      "metadata": {
        "colab": {
          "base_uri": "https://localhost:8080/"
        },
        "id": "qfwPbeRnrFuG",
        "outputId": "98fc626b-fc1c-41c6-b41c-2897754d8341"
      },
      "outputs": [
        {
          "data": {
            "text/plain": [
              "(690, 16)"
            ]
          },
          "execution_count": 5,
          "metadata": {},
          "output_type": "execute_result"
        }
      ],
      "source": [
        "df.shape"
      ]
    },
    {
      "cell_type": "code",
      "execution_count": 6,
      "metadata": {
        "colab": {
          "base_uri": "https://localhost:8080/"
        },
        "id": "d06FWPIYtRZy",
        "outputId": "a5c509d2-2c49-457a-d58a-821c8e0e8abc"
      },
      "outputs": [
        {
          "name": "stdout",
          "output_type": "stream",
          "text": [
            "<class 'pandas.core.frame.DataFrame'>\n",
            "RangeIndex: 690 entries, 0 to 689\n",
            "Data columns (total 16 columns):\n",
            " #   Column          Non-Null Count  Dtype  \n",
            "---  ------          --------------  -----  \n",
            " 0   Gender          690 non-null    int64  \n",
            " 1   Age             690 non-null    float64\n",
            " 2   Debt            690 non-null    float64\n",
            " 3   Married         690 non-null    int64  \n",
            " 4   BankCustomer    690 non-null    int64  \n",
            " 5   Industry        690 non-null    object \n",
            " 6   Ethnicity       690 non-null    object \n",
            " 7   YearsEmployed   690 non-null    float64\n",
            " 8   PriorDefault    690 non-null    int64  \n",
            " 9   Employed        690 non-null    int64  \n",
            " 10  CreditScore     690 non-null    int64  \n",
            " 11  DriversLicense  690 non-null    int64  \n",
            " 12  Citizen         690 non-null    object \n",
            " 13  ZipCode         690 non-null    int64  \n",
            " 14  Income          690 non-null    int64  \n",
            " 15  Approved        690 non-null    int64  \n",
            "dtypes: float64(3), int64(10), object(3)\n",
            "memory usage: 86.4+ KB\n"
          ]
        }
      ],
      "source": [
        "df.info()"
      ]
    },
    {
      "cell_type": "code",
      "execution_count": 7,
      "metadata": {},
      "outputs": [
        {
          "data": {
            "text/html": [
              "<div>\n",
              "<style scoped>\n",
              "    .dataframe tbody tr th:only-of-type {\n",
              "        vertical-align: middle;\n",
              "    }\n",
              "\n",
              "    .dataframe tbody tr th {\n",
              "        vertical-align: top;\n",
              "    }\n",
              "\n",
              "    .dataframe thead th {\n",
              "        text-align: right;\n",
              "    }\n",
              "</style>\n",
              "<table border=\"1\" class=\"dataframe\">\n",
              "  <thead>\n",
              "    <tr style=\"text-align: right;\">\n",
              "      <th></th>\n",
              "      <th>count</th>\n",
              "      <th>mean</th>\n",
              "      <th>std</th>\n",
              "      <th>min</th>\n",
              "      <th>25%</th>\n",
              "      <th>50%</th>\n",
              "      <th>75%</th>\n",
              "      <th>max</th>\n",
              "    </tr>\n",
              "  </thead>\n",
              "  <tbody>\n",
              "    <tr>\n",
              "      <th>Gender</th>\n",
              "      <td>690.0</td>\n",
              "      <td>0.695652</td>\n",
              "      <td>0.460464</td>\n",
              "      <td>0.00</td>\n",
              "      <td>0.000</td>\n",
              "      <td>1.00</td>\n",
              "      <td>1.0000</td>\n",
              "      <td>1.00</td>\n",
              "    </tr>\n",
              "    <tr>\n",
              "      <th>Age</th>\n",
              "      <td>690.0</td>\n",
              "      <td>31.514116</td>\n",
              "      <td>11.860245</td>\n",
              "      <td>13.75</td>\n",
              "      <td>22.670</td>\n",
              "      <td>28.46</td>\n",
              "      <td>37.7075</td>\n",
              "      <td>80.25</td>\n",
              "    </tr>\n",
              "    <tr>\n",
              "      <th>Debt</th>\n",
              "      <td>690.0</td>\n",
              "      <td>4.758725</td>\n",
              "      <td>4.978163</td>\n",
              "      <td>0.00</td>\n",
              "      <td>1.000</td>\n",
              "      <td>2.75</td>\n",
              "      <td>7.2075</td>\n",
              "      <td>28.00</td>\n",
              "    </tr>\n",
              "    <tr>\n",
              "      <th>Married</th>\n",
              "      <td>690.0</td>\n",
              "      <td>0.760870</td>\n",
              "      <td>0.426862</td>\n",
              "      <td>0.00</td>\n",
              "      <td>1.000</td>\n",
              "      <td>1.00</td>\n",
              "      <td>1.0000</td>\n",
              "      <td>1.00</td>\n",
              "    </tr>\n",
              "    <tr>\n",
              "      <th>BankCustomer</th>\n",
              "      <td>690.0</td>\n",
              "      <td>0.763768</td>\n",
              "      <td>0.425074</td>\n",
              "      <td>0.00</td>\n",
              "      <td>1.000</td>\n",
              "      <td>1.00</td>\n",
              "      <td>1.0000</td>\n",
              "      <td>1.00</td>\n",
              "    </tr>\n",
              "    <tr>\n",
              "      <th>YearsEmployed</th>\n",
              "      <td>690.0</td>\n",
              "      <td>2.223406</td>\n",
              "      <td>3.346513</td>\n",
              "      <td>0.00</td>\n",
              "      <td>0.165</td>\n",
              "      <td>1.00</td>\n",
              "      <td>2.6250</td>\n",
              "      <td>28.50</td>\n",
              "    </tr>\n",
              "    <tr>\n",
              "      <th>PriorDefault</th>\n",
              "      <td>690.0</td>\n",
              "      <td>0.523188</td>\n",
              "      <td>0.499824</td>\n",
              "      <td>0.00</td>\n",
              "      <td>0.000</td>\n",
              "      <td>1.00</td>\n",
              "      <td>1.0000</td>\n",
              "      <td>1.00</td>\n",
              "    </tr>\n",
              "    <tr>\n",
              "      <th>Employed</th>\n",
              "      <td>690.0</td>\n",
              "      <td>0.427536</td>\n",
              "      <td>0.495080</td>\n",
              "      <td>0.00</td>\n",
              "      <td>0.000</td>\n",
              "      <td>0.00</td>\n",
              "      <td>1.0000</td>\n",
              "      <td>1.00</td>\n",
              "    </tr>\n",
              "    <tr>\n",
              "      <th>CreditScore</th>\n",
              "      <td>690.0</td>\n",
              "      <td>2.400000</td>\n",
              "      <td>4.862940</td>\n",
              "      <td>0.00</td>\n",
              "      <td>0.000</td>\n",
              "      <td>0.00</td>\n",
              "      <td>3.0000</td>\n",
              "      <td>67.00</td>\n",
              "    </tr>\n",
              "    <tr>\n",
              "      <th>DriversLicense</th>\n",
              "      <td>690.0</td>\n",
              "      <td>0.457971</td>\n",
              "      <td>0.498592</td>\n",
              "      <td>0.00</td>\n",
              "      <td>0.000</td>\n",
              "      <td>0.00</td>\n",
              "      <td>1.0000</td>\n",
              "      <td>1.00</td>\n",
              "    </tr>\n",
              "    <tr>\n",
              "      <th>ZipCode</th>\n",
              "      <td>690.0</td>\n",
              "      <td>180.547826</td>\n",
              "      <td>173.970323</td>\n",
              "      <td>0.00</td>\n",
              "      <td>60.000</td>\n",
              "      <td>160.00</td>\n",
              "      <td>272.0000</td>\n",
              "      <td>2000.00</td>\n",
              "    </tr>\n",
              "    <tr>\n",
              "      <th>Income</th>\n",
              "      <td>690.0</td>\n",
              "      <td>1017.385507</td>\n",
              "      <td>5210.102598</td>\n",
              "      <td>0.00</td>\n",
              "      <td>0.000</td>\n",
              "      <td>5.00</td>\n",
              "      <td>395.5000</td>\n",
              "      <td>100000.00</td>\n",
              "    </tr>\n",
              "    <tr>\n",
              "      <th>Approved</th>\n",
              "      <td>690.0</td>\n",
              "      <td>0.444928</td>\n",
              "      <td>0.497318</td>\n",
              "      <td>0.00</td>\n",
              "      <td>0.000</td>\n",
              "      <td>0.00</td>\n",
              "      <td>1.0000</td>\n",
              "      <td>1.00</td>\n",
              "    </tr>\n",
              "  </tbody>\n",
              "</table>\n",
              "</div>"
            ],
            "text/plain": [
              "                count         mean          std    min     25%     50%   \n",
              "Gender          690.0     0.695652     0.460464   0.00   0.000    1.00  \\\n",
              "Age             690.0    31.514116    11.860245  13.75  22.670   28.46   \n",
              "Debt            690.0     4.758725     4.978163   0.00   1.000    2.75   \n",
              "Married         690.0     0.760870     0.426862   0.00   1.000    1.00   \n",
              "BankCustomer    690.0     0.763768     0.425074   0.00   1.000    1.00   \n",
              "YearsEmployed   690.0     2.223406     3.346513   0.00   0.165    1.00   \n",
              "PriorDefault    690.0     0.523188     0.499824   0.00   0.000    1.00   \n",
              "Employed        690.0     0.427536     0.495080   0.00   0.000    0.00   \n",
              "CreditScore     690.0     2.400000     4.862940   0.00   0.000    0.00   \n",
              "DriversLicense  690.0     0.457971     0.498592   0.00   0.000    0.00   \n",
              "ZipCode         690.0   180.547826   173.970323   0.00  60.000  160.00   \n",
              "Income          690.0  1017.385507  5210.102598   0.00   0.000    5.00   \n",
              "Approved        690.0     0.444928     0.497318   0.00   0.000    0.00   \n",
              "\n",
              "                     75%        max  \n",
              "Gender            1.0000       1.00  \n",
              "Age              37.7075      80.25  \n",
              "Debt              7.2075      28.00  \n",
              "Married           1.0000       1.00  \n",
              "BankCustomer      1.0000       1.00  \n",
              "YearsEmployed     2.6250      28.50  \n",
              "PriorDefault      1.0000       1.00  \n",
              "Employed          1.0000       1.00  \n",
              "CreditScore       3.0000      67.00  \n",
              "DriversLicense    1.0000       1.00  \n",
              "ZipCode         272.0000    2000.00  \n",
              "Income          395.5000  100000.00  \n",
              "Approved          1.0000       1.00  "
            ]
          },
          "execution_count": 7,
          "metadata": {},
          "output_type": "execute_result"
        }
      ],
      "source": [
        "df.describe().T"
      ]
    },
    {
      "cell_type": "code",
      "execution_count": 8,
      "metadata": {},
      "outputs": [
        {
          "data": {
            "text/plain": [
              "Gender            0\n",
              "Age               0\n",
              "Debt              0\n",
              "Married           0\n",
              "BankCustomer      0\n",
              "Industry          0\n",
              "Ethnicity         0\n",
              "YearsEmployed     0\n",
              "PriorDefault      0\n",
              "Employed          0\n",
              "CreditScore       0\n",
              "DriversLicense    0\n",
              "Citizen           0\n",
              "ZipCode           0\n",
              "Income            0\n",
              "Approved          0\n",
              "dtype: int64"
            ]
          },
          "execution_count": 8,
          "metadata": {},
          "output_type": "execute_result"
        }
      ],
      "source": [
        "df.isnull().sum()"
      ]
    },
    {
      "cell_type": "code",
      "execution_count": 9,
      "metadata": {},
      "outputs": [
        {
          "data": {
            "text/plain": [
              "Index(['Gender', 'Age', 'Debt', 'Married', 'BankCustomer', 'Industry',\n",
              "       'Ethnicity', 'YearsEmployed', 'PriorDefault', 'Employed', 'CreditScore',\n",
              "       'DriversLicense', 'Citizen', 'ZipCode', 'Income', 'Approved'],\n",
              "      dtype='object')"
            ]
          },
          "execution_count": 9,
          "metadata": {},
          "output_type": "execute_result"
        }
      ],
      "source": [
        "df.columns"
      ]
    },
    {
      "cell_type": "code",
      "execution_count": 10,
      "metadata": {},
      "outputs": [],
      "source": [
        "y = df['Approved']\n",
        "X = df.drop(columns = ['Approved'])"
      ]
    },
    {
      "cell_type": "code",
      "execution_count": 11,
      "metadata": {},
      "outputs": [
        {
          "data": {
            "text/plain": [
              "0      1\n",
              "1      1\n",
              "2      1\n",
              "3      1\n",
              "4      1\n",
              "      ..\n",
              "685    0\n",
              "686    0\n",
              "687    0\n",
              "688    0\n",
              "689    0\n",
              "Name: Approved, Length: 690, dtype: int64"
            ]
          },
          "execution_count": 11,
          "metadata": {},
          "output_type": "execute_result"
        }
      ],
      "source": [
        "y"
      ]
    },
    {
      "cell_type": "code",
      "execution_count": 12,
      "metadata": {},
      "outputs": [
        {
          "data": {
            "text/plain": [
              "array([[0., 1.],\n",
              "       [0., 1.],\n",
              "       [0., 1.],\n",
              "       ...,\n",
              "       [1., 0.],\n",
              "       [1., 0.],\n",
              "       [1., 0.]], dtype=float32)"
            ]
          },
          "execution_count": 12,
          "metadata": {},
          "output_type": "execute_result"
        }
      ],
      "source": [
        "from tensorflow.keras.utils import to_categorical\n",
        "y = to_categorical(y)\n",
        "y"
      ]
    },
    {
      "cell_type": "code",
      "execution_count": 13,
      "metadata": {},
      "outputs": [
        {
          "data": {
            "text/html": [
              "<div>\n",
              "<style scoped>\n",
              "    .dataframe tbody tr th:only-of-type {\n",
              "        vertical-align: middle;\n",
              "    }\n",
              "\n",
              "    .dataframe tbody tr th {\n",
              "        vertical-align: top;\n",
              "    }\n",
              "\n",
              "    .dataframe thead th {\n",
              "        text-align: right;\n",
              "    }\n",
              "</style>\n",
              "<table border=\"1\" class=\"dataframe\">\n",
              "  <thead>\n",
              "    <tr style=\"text-align: right;\">\n",
              "      <th></th>\n",
              "      <th>Gender</th>\n",
              "      <th>Age</th>\n",
              "      <th>Debt</th>\n",
              "      <th>Married</th>\n",
              "      <th>BankCustomer</th>\n",
              "      <th>Industry</th>\n",
              "      <th>Ethnicity</th>\n",
              "      <th>YearsEmployed</th>\n",
              "      <th>PriorDefault</th>\n",
              "      <th>Employed</th>\n",
              "      <th>CreditScore</th>\n",
              "      <th>DriversLicense</th>\n",
              "      <th>Citizen</th>\n",
              "      <th>ZipCode</th>\n",
              "      <th>Income</th>\n",
              "    </tr>\n",
              "  </thead>\n",
              "  <tbody>\n",
              "    <tr>\n",
              "      <th>0</th>\n",
              "      <td>1</td>\n",
              "      <td>30.83</td>\n",
              "      <td>0.000</td>\n",
              "      <td>1</td>\n",
              "      <td>1</td>\n",
              "      <td>Industrials</td>\n",
              "      <td>White</td>\n",
              "      <td>1.25</td>\n",
              "      <td>1</td>\n",
              "      <td>1</td>\n",
              "      <td>1</td>\n",
              "      <td>0</td>\n",
              "      <td>ByBirth</td>\n",
              "      <td>202</td>\n",
              "      <td>0</td>\n",
              "    </tr>\n",
              "    <tr>\n",
              "      <th>1</th>\n",
              "      <td>0</td>\n",
              "      <td>58.67</td>\n",
              "      <td>4.460</td>\n",
              "      <td>1</td>\n",
              "      <td>1</td>\n",
              "      <td>Materials</td>\n",
              "      <td>Black</td>\n",
              "      <td>3.04</td>\n",
              "      <td>1</td>\n",
              "      <td>1</td>\n",
              "      <td>6</td>\n",
              "      <td>0</td>\n",
              "      <td>ByBirth</td>\n",
              "      <td>43</td>\n",
              "      <td>560</td>\n",
              "    </tr>\n",
              "    <tr>\n",
              "      <th>2</th>\n",
              "      <td>0</td>\n",
              "      <td>24.50</td>\n",
              "      <td>0.500</td>\n",
              "      <td>1</td>\n",
              "      <td>1</td>\n",
              "      <td>Materials</td>\n",
              "      <td>Black</td>\n",
              "      <td>1.50</td>\n",
              "      <td>1</td>\n",
              "      <td>0</td>\n",
              "      <td>0</td>\n",
              "      <td>0</td>\n",
              "      <td>ByBirth</td>\n",
              "      <td>280</td>\n",
              "      <td>824</td>\n",
              "    </tr>\n",
              "    <tr>\n",
              "      <th>3</th>\n",
              "      <td>1</td>\n",
              "      <td>27.83</td>\n",
              "      <td>1.540</td>\n",
              "      <td>1</td>\n",
              "      <td>1</td>\n",
              "      <td>Industrials</td>\n",
              "      <td>White</td>\n",
              "      <td>3.75</td>\n",
              "      <td>1</td>\n",
              "      <td>1</td>\n",
              "      <td>5</td>\n",
              "      <td>1</td>\n",
              "      <td>ByBirth</td>\n",
              "      <td>100</td>\n",
              "      <td>3</td>\n",
              "    </tr>\n",
              "    <tr>\n",
              "      <th>4</th>\n",
              "      <td>1</td>\n",
              "      <td>20.17</td>\n",
              "      <td>5.625</td>\n",
              "      <td>1</td>\n",
              "      <td>1</td>\n",
              "      <td>Industrials</td>\n",
              "      <td>White</td>\n",
              "      <td>1.71</td>\n",
              "      <td>1</td>\n",
              "      <td>0</td>\n",
              "      <td>0</td>\n",
              "      <td>0</td>\n",
              "      <td>ByOtherMeans</td>\n",
              "      <td>120</td>\n",
              "      <td>0</td>\n",
              "    </tr>\n",
              "    <tr>\n",
              "      <th>...</th>\n",
              "      <td>...</td>\n",
              "      <td>...</td>\n",
              "      <td>...</td>\n",
              "      <td>...</td>\n",
              "      <td>...</td>\n",
              "      <td>...</td>\n",
              "      <td>...</td>\n",
              "      <td>...</td>\n",
              "      <td>...</td>\n",
              "      <td>...</td>\n",
              "      <td>...</td>\n",
              "      <td>...</td>\n",
              "      <td>...</td>\n",
              "      <td>...</td>\n",
              "      <td>...</td>\n",
              "    </tr>\n",
              "    <tr>\n",
              "      <th>685</th>\n",
              "      <td>1</td>\n",
              "      <td>21.08</td>\n",
              "      <td>10.085</td>\n",
              "      <td>0</td>\n",
              "      <td>0</td>\n",
              "      <td>Education</td>\n",
              "      <td>Black</td>\n",
              "      <td>1.25</td>\n",
              "      <td>0</td>\n",
              "      <td>0</td>\n",
              "      <td>0</td>\n",
              "      <td>0</td>\n",
              "      <td>ByBirth</td>\n",
              "      <td>260</td>\n",
              "      <td>0</td>\n",
              "    </tr>\n",
              "    <tr>\n",
              "      <th>686</th>\n",
              "      <td>0</td>\n",
              "      <td>22.67</td>\n",
              "      <td>0.750</td>\n",
              "      <td>1</td>\n",
              "      <td>1</td>\n",
              "      <td>Energy</td>\n",
              "      <td>White</td>\n",
              "      <td>2.00</td>\n",
              "      <td>0</td>\n",
              "      <td>1</td>\n",
              "      <td>2</td>\n",
              "      <td>1</td>\n",
              "      <td>ByBirth</td>\n",
              "      <td>200</td>\n",
              "      <td>394</td>\n",
              "    </tr>\n",
              "    <tr>\n",
              "      <th>687</th>\n",
              "      <td>0</td>\n",
              "      <td>25.25</td>\n",
              "      <td>13.500</td>\n",
              "      <td>0</td>\n",
              "      <td>0</td>\n",
              "      <td>Healthcare</td>\n",
              "      <td>Latino</td>\n",
              "      <td>2.00</td>\n",
              "      <td>0</td>\n",
              "      <td>1</td>\n",
              "      <td>1</td>\n",
              "      <td>1</td>\n",
              "      <td>ByBirth</td>\n",
              "      <td>200</td>\n",
              "      <td>1</td>\n",
              "    </tr>\n",
              "    <tr>\n",
              "      <th>688</th>\n",
              "      <td>1</td>\n",
              "      <td>17.92</td>\n",
              "      <td>0.205</td>\n",
              "      <td>1</td>\n",
              "      <td>1</td>\n",
              "      <td>ConsumerStaples</td>\n",
              "      <td>White</td>\n",
              "      <td>0.04</td>\n",
              "      <td>0</td>\n",
              "      <td>0</td>\n",
              "      <td>0</td>\n",
              "      <td>0</td>\n",
              "      <td>ByBirth</td>\n",
              "      <td>280</td>\n",
              "      <td>750</td>\n",
              "    </tr>\n",
              "    <tr>\n",
              "      <th>689</th>\n",
              "      <td>1</td>\n",
              "      <td>35.00</td>\n",
              "      <td>3.375</td>\n",
              "      <td>1</td>\n",
              "      <td>1</td>\n",
              "      <td>Energy</td>\n",
              "      <td>Black</td>\n",
              "      <td>8.29</td>\n",
              "      <td>0</td>\n",
              "      <td>0</td>\n",
              "      <td>0</td>\n",
              "      <td>1</td>\n",
              "      <td>ByBirth</td>\n",
              "      <td>0</td>\n",
              "      <td>0</td>\n",
              "    </tr>\n",
              "  </tbody>\n",
              "</table>\n",
              "<p>690 rows × 15 columns</p>\n",
              "</div>"
            ],
            "text/plain": [
              "     Gender    Age    Debt  Married  BankCustomer         Industry Ethnicity   \n",
              "0         1  30.83   0.000        1             1      Industrials     White  \\\n",
              "1         0  58.67   4.460        1             1        Materials     Black   \n",
              "2         0  24.50   0.500        1             1        Materials     Black   \n",
              "3         1  27.83   1.540        1             1      Industrials     White   \n",
              "4         1  20.17   5.625        1             1      Industrials     White   \n",
              "..      ...    ...     ...      ...           ...              ...       ...   \n",
              "685       1  21.08  10.085        0             0        Education     Black   \n",
              "686       0  22.67   0.750        1             1           Energy     White   \n",
              "687       0  25.25  13.500        0             0       Healthcare    Latino   \n",
              "688       1  17.92   0.205        1             1  ConsumerStaples     White   \n",
              "689       1  35.00   3.375        1             1           Energy     Black   \n",
              "\n",
              "     YearsEmployed  PriorDefault  Employed  CreditScore  DriversLicense   \n",
              "0             1.25             1         1            1               0  \\\n",
              "1             3.04             1         1            6               0   \n",
              "2             1.50             1         0            0               0   \n",
              "3             3.75             1         1            5               1   \n",
              "4             1.71             1         0            0               0   \n",
              "..             ...           ...       ...          ...             ...   \n",
              "685           1.25             0         0            0               0   \n",
              "686           2.00             0         1            2               1   \n",
              "687           2.00             0         1            1               1   \n",
              "688           0.04             0         0            0               0   \n",
              "689           8.29             0         0            0               1   \n",
              "\n",
              "          Citizen  ZipCode  Income  \n",
              "0         ByBirth      202       0  \n",
              "1         ByBirth       43     560  \n",
              "2         ByBirth      280     824  \n",
              "3         ByBirth      100       3  \n",
              "4    ByOtherMeans      120       0  \n",
              "..            ...      ...     ...  \n",
              "685       ByBirth      260       0  \n",
              "686       ByBirth      200     394  \n",
              "687       ByBirth      200       1  \n",
              "688       ByBirth      280     750  \n",
              "689       ByBirth        0       0  \n",
              "\n",
              "[690 rows x 15 columns]"
            ]
          },
          "execution_count": 13,
          "metadata": {},
          "output_type": "execute_result"
        }
      ],
      "source": [
        "X"
      ]
    },
    {
      "cell_type": "code",
      "execution_count": 14,
      "metadata": {},
      "outputs": [
        {
          "data": {
            "text/plain": [
              "['Industrials',\n",
              " 'Materials',\n",
              " 'CommunicationServices',\n",
              " 'Transport',\n",
              " 'InformationTechnology',\n",
              " 'Financials',\n",
              " 'Energy',\n",
              " 'Real Estate',\n",
              " 'Utilities',\n",
              " 'ConsumerDiscretionary',\n",
              " 'Education',\n",
              " 'ConsumerStaples',\n",
              " 'Healthcare',\n",
              " 'Research']"
            ]
          },
          "execution_count": 14,
          "metadata": {},
          "output_type": "execute_result"
        }
      ],
      "source": [
        "df['Industry'].unique().tolist()"
      ]
    },
    {
      "cell_type": "code",
      "execution_count": 15,
      "metadata": {},
      "outputs": [
        {
          "data": {
            "text/plain": [
              "['White', 'Black', 'Asian', 'Latino', 'Other']"
            ]
          },
          "execution_count": 15,
          "metadata": {},
          "output_type": "execute_result"
        }
      ],
      "source": [
        "df['Ethnicity'].unique().tolist()"
      ]
    },
    {
      "cell_type": "code",
      "execution_count": 16,
      "metadata": {},
      "outputs": [
        {
          "data": {
            "text/plain": [
              "['ByBirth', 'ByOtherMeans', 'Temporary']"
            ]
          },
          "execution_count": 16,
          "metadata": {},
          "output_type": "execute_result"
        }
      ],
      "source": [
        "df['Citizen'].unique().tolist()"
      ]
    },
    {
      "cell_type": "code",
      "execution_count": 17,
      "metadata": {
        "id": "SoKGfs7LuyQp"
      },
      "outputs": [],
      "source": [
        "numerical_cols = [cname for cname in X.columns if X[cname].dtype in ['int64','float64']]\n",
        "categorical_cols = [cname for cname in X.columns if X[cname].dtype == 'object' and X[cname].nunique()< 20] "
      ]
    },
    {
      "cell_type": "code",
      "execution_count": 18,
      "metadata": {},
      "outputs": [
        {
          "data": {
            "text/plain": [
              "['Gender',\n",
              " 'Age',\n",
              " 'Debt',\n",
              " 'Married',\n",
              " 'BankCustomer',\n",
              " 'YearsEmployed',\n",
              " 'PriorDefault',\n",
              " 'Employed',\n",
              " 'CreditScore',\n",
              " 'DriversLicense',\n",
              " 'ZipCode',\n",
              " 'Income']"
            ]
          },
          "execution_count": 18,
          "metadata": {},
          "output_type": "execute_result"
        }
      ],
      "source": [
        "numerical_cols"
      ]
    },
    {
      "cell_type": "code",
      "execution_count": 19,
      "metadata": {},
      "outputs": [
        {
          "data": {
            "text/plain": [
              "['Industry', 'Ethnicity', 'Citizen']"
            ]
          },
          "execution_count": 19,
          "metadata": {},
          "output_type": "execute_result"
        }
      ],
      "source": [
        "categorical_cols"
      ]
    },
    {
      "cell_type": "code",
      "execution_count": 20,
      "metadata": {},
      "outputs": [],
      "source": [
        "from sklearn.pipeline import Pipeline\n",
        "from sklearn.preprocessing import OrdinalEncoder\n",
        "from sklearn.compose import ColumnTransformer\n",
        "from sklearn import metrics\n",
        "from sklearn.preprocessing import StandardScaler, MinMaxScaler"
      ]
    },
    {
      "cell_type": "code",
      "execution_count": 21,
      "metadata": {},
      "outputs": [],
      "source": [
        "OEncode = OrdinalEncoder()\n",
        "X[categorical_cols] = OEncode.fit_transform(X[categorical_cols])"
      ]
    },
    {
      "cell_type": "code",
      "execution_count": 22,
      "metadata": {},
      "outputs": [],
      "source": [
        "scaler_x = StandardScaler()\n",
        "X[numerical_cols] = scaler_x.fit_transform(X[numerical_cols])"
      ]
    },
    {
      "cell_type": "code",
      "execution_count": 23,
      "metadata": {},
      "outputs": [
        {
          "data": {
            "text/html": [
              "<div>\n",
              "<style scoped>\n",
              "    .dataframe tbody tr th:only-of-type {\n",
              "        vertical-align: middle;\n",
              "    }\n",
              "\n",
              "    .dataframe tbody tr th {\n",
              "        vertical-align: top;\n",
              "    }\n",
              "\n",
              "    .dataframe thead th {\n",
              "        text-align: right;\n",
              "    }\n",
              "</style>\n",
              "<table border=\"1\" class=\"dataframe\">\n",
              "  <thead>\n",
              "    <tr style=\"text-align: right;\">\n",
              "      <th></th>\n",
              "      <th>Gender</th>\n",
              "      <th>Age</th>\n",
              "      <th>Debt</th>\n",
              "      <th>Married</th>\n",
              "      <th>BankCustomer</th>\n",
              "      <th>Industry</th>\n",
              "      <th>Ethnicity</th>\n",
              "      <th>YearsEmployed</th>\n",
              "      <th>PriorDefault</th>\n",
              "      <th>Employed</th>\n",
              "      <th>CreditScore</th>\n",
              "      <th>DriversLicense</th>\n",
              "      <th>Citizen</th>\n",
              "      <th>ZipCode</th>\n",
              "      <th>Income</th>\n",
              "    </tr>\n",
              "  </thead>\n",
              "  <tbody>\n",
              "    <tr>\n",
              "      <th>0</th>\n",
              "      <td>0.661438</td>\n",
              "      <td>-0.057723</td>\n",
              "      <td>-0.956613</td>\n",
              "      <td>0.560612</td>\n",
              "      <td>0.556146</td>\n",
              "      <td>7.0</td>\n",
              "      <td>4.0</td>\n",
              "      <td>-0.291083</td>\n",
              "      <td>0.954650</td>\n",
              "      <td>1.157144</td>\n",
              "      <td>-0.288101</td>\n",
              "      <td>-0.919195</td>\n",
              "      <td>0.0</td>\n",
              "      <td>0.123399</td>\n",
              "      <td>-0.195413</td>\n",
              "    </tr>\n",
              "    <tr>\n",
              "      <th>1</th>\n",
              "      <td>-1.511858</td>\n",
              "      <td>2.291317</td>\n",
              "      <td>-0.060051</td>\n",
              "      <td>0.560612</td>\n",
              "      <td>0.556146</td>\n",
              "      <td>9.0</td>\n",
              "      <td>1.0</td>\n",
              "      <td>0.244190</td>\n",
              "      <td>0.954650</td>\n",
              "      <td>1.157144</td>\n",
              "      <td>0.740830</td>\n",
              "      <td>-0.919195</td>\n",
              "      <td>0.0</td>\n",
              "      <td>-0.791213</td>\n",
              "      <td>-0.087852</td>\n",
              "    </tr>\n",
              "    <tr>\n",
              "      <th>2</th>\n",
              "      <td>-1.511858</td>\n",
              "      <td>-0.591826</td>\n",
              "      <td>-0.856102</td>\n",
              "      <td>0.560612</td>\n",
              "      <td>0.556146</td>\n",
              "      <td>9.0</td>\n",
              "      <td>1.0</td>\n",
              "      <td>-0.216324</td>\n",
              "      <td>0.954650</td>\n",
              "      <td>-0.864196</td>\n",
              "      <td>-0.493887</td>\n",
              "      <td>-0.919195</td>\n",
              "      <td>0.0</td>\n",
              "      <td>0.572076</td>\n",
              "      <td>-0.037144</td>\n",
              "    </tr>\n",
              "    <tr>\n",
              "      <th>3</th>\n",
              "      <td>0.661438</td>\n",
              "      <td>-0.310853</td>\n",
              "      <td>-0.647038</td>\n",
              "      <td>0.560612</td>\n",
              "      <td>0.556146</td>\n",
              "      <td>7.0</td>\n",
              "      <td>4.0</td>\n",
              "      <td>0.456505</td>\n",
              "      <td>0.954650</td>\n",
              "      <td>1.157144</td>\n",
              "      <td>0.535044</td>\n",
              "      <td>1.087908</td>\n",
              "      <td>0.0</td>\n",
              "      <td>-0.463333</td>\n",
              "      <td>-0.194837</td>\n",
              "    </tr>\n",
              "    <tr>\n",
              "      <th>4</th>\n",
              "      <td>0.661438</td>\n",
              "      <td>-0.957176</td>\n",
              "      <td>0.174141</td>\n",
              "      <td>0.560612</td>\n",
              "      <td>0.556146</td>\n",
              "      <td>7.0</td>\n",
              "      <td>4.0</td>\n",
              "      <td>-0.153526</td>\n",
              "      <td>0.954650</td>\n",
              "      <td>-0.864196</td>\n",
              "      <td>-0.493887</td>\n",
              "      <td>-0.919195</td>\n",
              "      <td>1.0</td>\n",
              "      <td>-0.348288</td>\n",
              "      <td>-0.195413</td>\n",
              "    </tr>\n",
              "    <tr>\n",
              "      <th>...</th>\n",
              "      <td>...</td>\n",
              "      <td>...</td>\n",
              "      <td>...</td>\n",
              "      <td>...</td>\n",
              "      <td>...</td>\n",
              "      <td>...</td>\n",
              "      <td>...</td>\n",
              "      <td>...</td>\n",
              "      <td>...</td>\n",
              "      <td>...</td>\n",
              "      <td>...</td>\n",
              "      <td>...</td>\n",
              "      <td>...</td>\n",
              "      <td>...</td>\n",
              "      <td>...</td>\n",
              "    </tr>\n",
              "    <tr>\n",
              "      <th>685</th>\n",
              "      <td>0.661438</td>\n",
              "      <td>-0.880394</td>\n",
              "      <td>1.070704</td>\n",
              "      <td>-1.783765</td>\n",
              "      <td>-1.798090</td>\n",
              "      <td>3.0</td>\n",
              "      <td>1.0</td>\n",
              "      <td>-0.291083</td>\n",
              "      <td>-1.047504</td>\n",
              "      <td>-0.864196</td>\n",
              "      <td>-0.493887</td>\n",
              "      <td>-0.919195</td>\n",
              "      <td>0.0</td>\n",
              "      <td>0.457031</td>\n",
              "      <td>-0.195413</td>\n",
              "    </tr>\n",
              "    <tr>\n",
              "      <th>686</th>\n",
              "      <td>-1.511858</td>\n",
              "      <td>-0.746235</td>\n",
              "      <td>-0.805846</td>\n",
              "      <td>0.560612</td>\n",
              "      <td>0.556146</td>\n",
              "      <td>4.0</td>\n",
              "      <td>4.0</td>\n",
              "      <td>-0.066806</td>\n",
              "      <td>-1.047504</td>\n",
              "      <td>1.157144</td>\n",
              "      <td>-0.082314</td>\n",
              "      <td>1.087908</td>\n",
              "      <td>0.0</td>\n",
              "      <td>0.111894</td>\n",
              "      <td>-0.119736</td>\n",
              "    </tr>\n",
              "    <tr>\n",
              "      <th>687</th>\n",
              "      <td>-1.511858</td>\n",
              "      <td>-0.528544</td>\n",
              "      <td>1.757198</td>\n",
              "      <td>-1.783765</td>\n",
              "      <td>-1.798090</td>\n",
              "      <td>6.0</td>\n",
              "      <td>2.0</td>\n",
              "      <td>-0.066806</td>\n",
              "      <td>-1.047504</td>\n",
              "      <td>1.157144</td>\n",
              "      <td>-0.288101</td>\n",
              "      <td>1.087908</td>\n",
              "      <td>0.0</td>\n",
              "      <td>0.111894</td>\n",
              "      <td>-0.195221</td>\n",
              "    </tr>\n",
              "    <tr>\n",
              "      <th>688</th>\n",
              "      <td>0.661438</td>\n",
              "      <td>-1.147023</td>\n",
              "      <td>-0.915403</td>\n",
              "      <td>0.560612</td>\n",
              "      <td>0.556146</td>\n",
              "      <td>2.0</td>\n",
              "      <td>4.0</td>\n",
              "      <td>-0.652915</td>\n",
              "      <td>-1.047504</td>\n",
              "      <td>-0.864196</td>\n",
              "      <td>-0.493887</td>\n",
              "      <td>-0.919195</td>\n",
              "      <td>0.0</td>\n",
              "      <td>0.572076</td>\n",
              "      <td>-0.051358</td>\n",
              "    </tr>\n",
              "    <tr>\n",
              "      <th>689</th>\n",
              "      <td>0.661438</td>\n",
              "      <td>0.294127</td>\n",
              "      <td>-0.278161</td>\n",
              "      <td>0.560612</td>\n",
              "      <td>0.556146</td>\n",
              "      <td>4.0</td>\n",
              "      <td>1.0</td>\n",
              "      <td>1.814125</td>\n",
              "      <td>-1.047504</td>\n",
              "      <td>-0.864196</td>\n",
              "      <td>-0.493887</td>\n",
              "      <td>1.087908</td>\n",
              "      <td>0.0</td>\n",
              "      <td>-1.038561</td>\n",
              "      <td>-0.195413</td>\n",
              "    </tr>\n",
              "  </tbody>\n",
              "</table>\n",
              "<p>690 rows × 15 columns</p>\n",
              "</div>"
            ],
            "text/plain": [
              "       Gender       Age      Debt   Married  BankCustomer  Industry   \n",
              "0    0.661438 -0.057723 -0.956613  0.560612      0.556146       7.0  \\\n",
              "1   -1.511858  2.291317 -0.060051  0.560612      0.556146       9.0   \n",
              "2   -1.511858 -0.591826 -0.856102  0.560612      0.556146       9.0   \n",
              "3    0.661438 -0.310853 -0.647038  0.560612      0.556146       7.0   \n",
              "4    0.661438 -0.957176  0.174141  0.560612      0.556146       7.0   \n",
              "..        ...       ...       ...       ...           ...       ...   \n",
              "685  0.661438 -0.880394  1.070704 -1.783765     -1.798090       3.0   \n",
              "686 -1.511858 -0.746235 -0.805846  0.560612      0.556146       4.0   \n",
              "687 -1.511858 -0.528544  1.757198 -1.783765     -1.798090       6.0   \n",
              "688  0.661438 -1.147023 -0.915403  0.560612      0.556146       2.0   \n",
              "689  0.661438  0.294127 -0.278161  0.560612      0.556146       4.0   \n",
              "\n",
              "     Ethnicity  YearsEmployed  PriorDefault  Employed  CreditScore   \n",
              "0          4.0      -0.291083      0.954650  1.157144    -0.288101  \\\n",
              "1          1.0       0.244190      0.954650  1.157144     0.740830   \n",
              "2          1.0      -0.216324      0.954650 -0.864196    -0.493887   \n",
              "3          4.0       0.456505      0.954650  1.157144     0.535044   \n",
              "4          4.0      -0.153526      0.954650 -0.864196    -0.493887   \n",
              "..         ...            ...           ...       ...          ...   \n",
              "685        1.0      -0.291083     -1.047504 -0.864196    -0.493887   \n",
              "686        4.0      -0.066806     -1.047504  1.157144    -0.082314   \n",
              "687        2.0      -0.066806     -1.047504  1.157144    -0.288101   \n",
              "688        4.0      -0.652915     -1.047504 -0.864196    -0.493887   \n",
              "689        1.0       1.814125     -1.047504 -0.864196    -0.493887   \n",
              "\n",
              "     DriversLicense  Citizen   ZipCode    Income  \n",
              "0         -0.919195      0.0  0.123399 -0.195413  \n",
              "1         -0.919195      0.0 -0.791213 -0.087852  \n",
              "2         -0.919195      0.0  0.572076 -0.037144  \n",
              "3          1.087908      0.0 -0.463333 -0.194837  \n",
              "4         -0.919195      1.0 -0.348288 -0.195413  \n",
              "..              ...      ...       ...       ...  \n",
              "685       -0.919195      0.0  0.457031 -0.195413  \n",
              "686        1.087908      0.0  0.111894 -0.119736  \n",
              "687        1.087908      0.0  0.111894 -0.195221  \n",
              "688       -0.919195      0.0  0.572076 -0.051358  \n",
              "689        1.087908      0.0 -1.038561 -0.195413  \n",
              "\n",
              "[690 rows x 15 columns]"
            ]
          },
          "execution_count": 23,
          "metadata": {},
          "output_type": "execute_result"
        }
      ],
      "source": [
        "X"
      ]
    },
    {
      "cell_type": "code",
      "execution_count": 24,
      "metadata": {
        "id": "kePaLu3vuqHb"
      },
      "outputs": [],
      "source": [
        "from sklearn.model_selection import train_test_split\n",
        "X_train,X_test,y_train,y_test = train_test_split(X,y,test_size=0.1)\n"
      ]
    },
    {
      "cell_type": "code",
      "execution_count": 25,
      "metadata": {
        "colab": {
          "base_uri": "https://localhost:8080/"
        },
        "id": "ib9b16kIvIxe",
        "outputId": "bdfb3485-8ce8-46e3-d704-1eec61d634b3"
      },
      "outputs": [
        {
          "data": {
            "text/plain": [
              "((621, 15), (69, 15), (621, 2), (69, 2))"
            ]
          },
          "execution_count": 25,
          "metadata": {},
          "output_type": "execute_result"
        }
      ],
      "source": [
        "X_train.shape, X_test.shape, y_train.shape, y_test.shape"
      ]
    },
    {
      "cell_type": "code",
      "execution_count": 26,
      "metadata": {
        "colab": {
          "base_uri": "https://localhost:8080/"
        },
        "id": "OcOqj3H_vKbf",
        "outputId": "b062eb31-9884-4ce4-e552-81d88219c136"
      },
      "outputs": [
        {
          "name": "stdout",
          "output_type": "stream",
          "text": [
            "Model: \"sequential\"\n",
            "_________________________________________________________________\n",
            " Layer (type)                Output Shape              Param #   \n",
            "=================================================================\n",
            " dense (Dense)               (None, 100)               1600      \n",
            "                                                                 \n",
            " dropout (Dropout)           (None, 100)               0         \n",
            "                                                                 \n",
            " dense_1 (Dense)             (None, 80)                8080      \n",
            "                                                                 \n",
            " dropout_1 (Dropout)         (None, 80)                0         \n",
            "                                                                 \n",
            " dense_2 (Dense)             (None, 50)                4050      \n",
            "                                                                 \n",
            " dropout_2 (Dropout)         (None, 50)                0         \n",
            "                                                                 \n",
            " dense_3 (Dense)             (None, 30)                1530      \n",
            "                                                                 \n",
            " dropout_3 (Dropout)         (None, 30)                0         \n",
            "                                                                 \n",
            " dense_4 (Dense)             (None, 10)                310       \n",
            "                                                                 \n",
            " dropout_4 (Dropout)         (None, 10)                0         \n",
            "                                                                 \n",
            " dense_5 (Dense)             (None, 2)                 22        \n",
            "                                                                 \n",
            "=================================================================\n",
            "Total params: 15,592\n",
            "Trainable params: 15,592\n",
            "Non-trainable params: 0\n",
            "_________________________________________________________________\n"
          ]
        }
      ],
      "source": [
        "ANN_model = keras.Sequential()\n",
        "\n",
        "# Add dense layer\n",
        "ANN_model.add(Dense(100, input_dim = 15, kernel_initializer = 'normal',activation = 'relu'))\n",
        "\n",
        "ANN_model.add(Dropout(0.3))\n",
        "ANN_model.add(Dense(80,activation='relu'))\n",
        "\n",
        "ANN_model.add(Dropout(0.2))\n",
        "ANN_model.add(Dense(50,activation='relu'))\n",
        "\n",
        "ANN_model.add(Dropout(0.2))\n",
        "ANN_model.add(Dense(30,activation='relu'))\n",
        "\n",
        "ANN_model.add(Dropout(0.2))\n",
        "ANN_model.add(Dense(10,activation='relu'))\n",
        "\n",
        "ANN_model.add(Dropout(0.2))\n",
        "\n",
        "\n",
        "\n",
        "# Add dense layer with softmax activation\n",
        "ANN_model.add(Dense(2, activation = 'softmax'))\n",
        "ANN_model.summary()"
      ]
    },
    {
      "cell_type": "code",
      "execution_count": 27,
      "metadata": {
        "id": "8eRDNdNsvOJj"
      },
      "outputs": [],
      "source": [
        "ANN_model.compile(loss='binary_crossentropy',optimizer='adam',metrics=['accuracy'])\n"
      ]
    },
    {
      "cell_type": "code",
      "execution_count": 28,
      "metadata": {
        "colab": {
          "base_uri": "https://localhost:8080/"
        },
        "id": "17xDc4YsvR0W",
        "outputId": "a3227780-fc55-47d7-efc6-afe3372fd797"
      },
      "outputs": [
        {
          "name": "stdout",
          "output_type": "stream",
          "text": [
            "Epoch 1/20\n",
            "16/16 [==============================] - 2s 19ms/step - loss: 0.6935 - accuracy: 0.5222 - val_loss: 0.6866 - val_accuracy: 0.7680\n",
            "Epoch 2/20\n",
            "16/16 [==============================] - 0s 5ms/step - loss: 0.6812 - accuracy: 0.6129 - val_loss: 0.6593 - val_accuracy: 0.6800\n",
            "Epoch 3/20\n",
            "16/16 [==============================] - 0s 6ms/step - loss: 0.6439 - accuracy: 0.6794 - val_loss: 0.5901 - val_accuracy: 0.7760\n",
            "Epoch 4/20\n",
            "16/16 [==============================] - 0s 6ms/step - loss: 0.5652 - accuracy: 0.8165 - val_loss: 0.4669 - val_accuracy: 0.7920\n",
            "Epoch 5/20\n",
            "16/16 [==============================] - 0s 6ms/step - loss: 0.4740 - accuracy: 0.8306 - val_loss: 0.4369 - val_accuracy: 0.8160\n",
            "Epoch 6/20\n",
            "16/16 [==============================] - 0s 5ms/step - loss: 0.3979 - accuracy: 0.8629 - val_loss: 0.4048 - val_accuracy: 0.8160\n",
            "Epoch 7/20\n",
            "16/16 [==============================] - 0s 7ms/step - loss: 0.4035 - accuracy: 0.8589 - val_loss: 0.4212 - val_accuracy: 0.8240\n",
            "Epoch 8/20\n",
            "16/16 [==============================] - 0s 5ms/step - loss: 0.3953 - accuracy: 0.8669 - val_loss: 0.4137 - val_accuracy: 0.8240\n",
            "Epoch 9/20\n",
            "16/16 [==============================] - 0s 6ms/step - loss: 0.3610 - accuracy: 0.8750 - val_loss: 0.4033 - val_accuracy: 0.8320\n",
            "Epoch 10/20\n",
            "16/16 [==============================] - 0s 6ms/step - loss: 0.3694 - accuracy: 0.8891 - val_loss: 0.4012 - val_accuracy: 0.8240\n",
            "Epoch 11/20\n",
            "16/16 [==============================] - 0s 6ms/step - loss: 0.3691 - accuracy: 0.8710 - val_loss: 0.3989 - val_accuracy: 0.8240\n",
            "Epoch 12/20\n",
            "16/16 [==============================] - 0s 6ms/step - loss: 0.3388 - accuracy: 0.8931 - val_loss: 0.4090 - val_accuracy: 0.8240\n",
            "Epoch 13/20\n",
            "16/16 [==============================] - 0s 6ms/step - loss: 0.3257 - accuracy: 0.8972 - val_loss: 0.4122 - val_accuracy: 0.8240\n",
            "Epoch 14/20\n",
            "16/16 [==============================] - 0s 5ms/step - loss: 0.3669 - accuracy: 0.8851 - val_loss: 0.3992 - val_accuracy: 0.8320\n",
            "Epoch 15/20\n",
            "16/16 [==============================] - 0s 6ms/step - loss: 0.3075 - accuracy: 0.8972 - val_loss: 0.4067 - val_accuracy: 0.8240\n",
            "Epoch 16/20\n",
            "16/16 [==============================] - 0s 5ms/step - loss: 0.2952 - accuracy: 0.9012 - val_loss: 0.4266 - val_accuracy: 0.8160\n",
            "Epoch 17/20\n",
            "16/16 [==============================] - 0s 5ms/step - loss: 0.3089 - accuracy: 0.8871 - val_loss: 0.4323 - val_accuracy: 0.8320\n",
            "Epoch 18/20\n",
            "16/16 [==============================] - 0s 7ms/step - loss: 0.3281 - accuracy: 0.8911 - val_loss: 0.3922 - val_accuracy: 0.8320\n",
            "Epoch 19/20\n",
            "16/16 [==============================] - 0s 6ms/step - loss: 0.3031 - accuracy: 0.8931 - val_loss: 0.4441 - val_accuracy: 0.8320\n",
            "Epoch 20/20\n",
            "16/16 [==============================] - 0s 5ms/step - loss: 0.2923 - accuracy: 0.9032 - val_loss: 0.4055 - val_accuracy: 0.8320\n"
          ]
        }
      ],
      "source": [
        "history = ANN_model.fit(X_train,y_train,epochs=20,validation_split=0.2,verbose=1)"
      ]
    },
    {
      "cell_type": "code",
      "execution_count": 29,
      "metadata": {
        "colab": {
          "base_uri": "https://localhost:8080/",
          "height": 472
        },
        "id": "vUl9kanQvWgt",
        "outputId": "7e03094f-7928-47ca-a547-d634de568d90"
      },
      "outputs": [
        {
          "data": {
            "image/png": "[encoded data removed]",
            "text/plain": [
              "<Figure size 640x480 with 1 Axes>"
            ]
          },
          "metadata": {},
          "output_type": "display_data"
        }
      ],
      "source": [
        "plt.plot(history.history['loss'])\n",
        "plt.plot(history.history['val_loss'])\n",
        "plt.title('Model loss')\n",
        "plt.ylabel('loss')\n",
        "plt.xlabel('epoch')\n",
        "plt.legend(['train_loss','val_loss'], loc = 'upper right')\n",
        "plt.show()"
      ]
    },
    {
      "cell_type": "code",
      "execution_count": 30,
      "metadata": {
        "colab": {
          "base_uri": "https://localhost:8080/"
        },
        "id": "SQeTGz6ivt1A",
        "outputId": "fe9deeb3-812a-420c-9e8e-517aee60aa70"
      },
      "outputs": [
        {
          "name": "stdout",
          "output_type": "stream",
          "text": [
            "3/3 [==============================] - 0s 2ms/step\n"
          ]
        }
      ],
      "source": [
        "# Make predictions\n",
        "predictions = ANN_model.predict(X_test)\n",
        "\n",
        "# Append the index of max value using argmax function\n",
        "predict = []\n",
        "for i in predictions:\n",
        "    predict.append(np.argmax(i))"
      ]
    },
    {
      "cell_type": "code",
      "execution_count": 31,
      "metadata": {
        "colab": {
          "base_uri": "https://localhost:8080/"
        },
        "id": "fK4JDEs0vwC3",
        "outputId": "2548294e-048b-4db6-9fa0-eb30f71e4e7c"
      },
      "outputs": [
        {
          "name": "stdout",
          "output_type": "stream",
          "text": [
            "3/3 [==============================] - 0s 2ms/step - loss: 0.3090 - accuracy: 0.8406\n",
            "Accuracy : 0.8405796885490417\n"
          ]
        }
      ],
      "source": [
        "# Get the acccuracy of the model\n",
        "result = ANN_model.evaluate(X_test, y_test)\n",
        "\n",
        "print(\"Accuracy : {}\".format(result[1]))"
      ]
    },
    {
      "cell_type": "code",
      "execution_count": 32,
      "metadata": {
        "id": "wfitw-uSvxtl"
      },
      "outputs": [],
      "source": [
        "# Get the original values\n",
        "y_original = []\n",
        "\n",
        "for i in y_test:\n",
        "    y_original.append(np.argmax(i))"
      ]
    },
    {
      "cell_type": "code",
      "execution_count": 33,
      "metadata": {
        "colab": {
          "base_uri": "https://localhost:8080/",
          "height": 454
        },
        "id": "iYlTEFjPvzWS",
        "outputId": "2a08bc0d-8c5c-4fa5-f38c-0ab10a0d4df6"
      },
      "outputs": [
        {
          "data": {
            "text/plain": [
              "<Axes: >"
            ]
          },
          "execution_count": 33,
          "metadata": {},
          "output_type": "execute_result"
        },
        {
          "data": {
            "image/png": "[encoded data removed]",
            "text/plain": [
              "<Figure size 640x480 with 2 Axes>"
            ]
          },
          "metadata": {},
          "output_type": "display_data"
        }
      ],
      "source": [
        "# Plot Confusion Matrix\n",
        "confusion_matrix = metrics.confusion_matrix(y_original,predict)\n",
        "sns.heatmap(confusion_matrix,annot=True)"
      ]
    },
    {
      "cell_type": "code",
      "execution_count": 34,
      "metadata": {
        "colab": {
          "base_uri": "https://localhost:8080/"
        },
        "id": "TNPNJ7OrM26G",
        "outputId": "09bd6211-b880-4804-ae11-c4f6778200e6"
      },
      "outputs": [
        {
          "data": {
            "text/plain": [
              "array([[35,  8],\n",
              "       [ 3, 23]], dtype=int64)"
            ]
          },
          "execution_count": 34,
          "metadata": {},
          "output_type": "execute_result"
        }
      ],
      "source": [
        "confusion_matrix"
      ]
    },
    {
      "cell_type": "code",
      "execution_count": 35,
      "metadata": {
        "colab": {
          "base_uri": "https://localhost:8080/"
        },
        "id": "qrw5T78Zv073",
        "outputId": "cf00242f-cb3c-4c16-e0c2-d261b0586ece"
      },
      "outputs": [
        {
          "name": "stdout",
          "output_type": "stream",
          "text": [
            "              precision    recall  f1-score   support\n",
            "\n",
            "           0       0.92      0.81      0.86        43\n",
            "           1       0.74      0.88      0.81        26\n",
            "\n",
            "    accuracy                           0.84        69\n",
            "   macro avg       0.83      0.85      0.84        69\n",
            "weighted avg       0.85      0.84      0.84        69\n",
            "\n"
          ]
        }
      ],
      "source": [
        "# Print out the classification report\n",
        "from sklearn.metrics import classification_report\n",
        "print(classification_report(y_original,predict))"
      ]
    },
    {
      "cell_type": "code",
      "execution_count": 36,
      "metadata": {
        "id": "7lFRmcWuv2xv"
      },
      "outputs": [
        {
          "name": "stdout",
          "output_type": "stream",
          "text": [
            "1/1 [==============================] - 0s 97ms/step\n"
          ]
        }
      ],
      "source": [
        "result = ANN_model.predict([[0.661438,\t-0.057723,\t-0.956613,\t0.560612,\t0.556146,\t7.0,\t4.0,\t-0.291083,\t0.954650,\t1.157144,\t-0.288101,\t-0.919195,\t0.0,\t0.123399,\t-0.195413]])"
      ]
    },
    {
      "cell_type": "code",
      "execution_count": null,
      "metadata": {},
      "outputs": [],
      "source": [
        "0.661438\t-0.057723\t-0.956613\t0.560612\t0.556146\t7.0\t4.0\t-0.291083\t0.954650\t1.157144\t-0.288101\t-0.919195\t0.0\t0.123399\t-0.195413"
      ]
    },
    {
      "cell_type": "code",
      "execution_count": 37,
      "metadata": {},
      "outputs": [
        {
          "data": {
            "text/plain": [
              "array([[0.02618882, 0.97381115]], dtype=float32)"
            ]
          },
          "execution_count": 37,
          "metadata": {},
          "output_type": "execute_result"
        }
      ],
      "source": [
        "result"
      ]
    },
    {
      "cell_type": "code",
      "execution_count": 38,
      "metadata": {},
      "outputs": [],
      "source": [
        "with open('model.pkl','wb') as files:\n",
        "    pickle.dump(ANN_model,files)"
      ]
    },
    {
      "cell_type": "code",
      "execution_count": null,
      "metadata": {},
      "outputs": [],
      "source": []
    }
  ],
  "metadata": {
    "colab": {
      "provenance": []
    },
    "kernelspec": {
      "display_name": "Python 3",
      "name": "python3"
    },
    "language_info": {
      "codemirror_mode": {
        "name": "ipython",
        "version": 3
      },
      "file_extension": ".py",
      "mimetype": "text/x-python",
      "name": "python",
      "nbconvert_exporter": "python",
      "pygments_lexer": "ipython3",
      "version": "3.10.4"
    }
  },
  "nbformat": 4,
  "nbformat_minor": 0
}
